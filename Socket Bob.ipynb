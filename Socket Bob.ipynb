{
 "cells": [
  {
   "cell_type": "code",
   "execution_count": 1,
   "metadata": {},
   "outputs": [],
   "source": [
    "%load_ext autoreload\n",
    "%autoreload 2"
   ]
  },
  {
   "cell_type": "code",
   "execution_count": 2,
   "metadata": {},
   "outputs": [
    {
     "name": "stderr",
     "output_type": "stream",
     "text": [
      "WARNING: Logging before flag parsing goes to stderr.\n",
      "W0719 10:53:37.334182 11052 secure_random.py:26] Falling back to insecure randomness since the required custom op could not be found for the installed version of TensorFlow. Fix this by compiling custom ops. Missing file was 'D:\\Anaconda3\\envs\\syft\\lib\\site-packages\\tf_encrypted/operations/secure_random/secure_random_module_tf_1.14.0.so'\n",
      "W0719 10:53:37.389158 11052 deprecation_wrapper.py:119] From D:\\Anaconda3\\envs\\syft\\lib\\site-packages\\tf_encrypted\\session.py:26: The name tf.Session is deprecated. Please use tf.compat.v1.Session instead.\n",
      "\n"
     ]
    },
    {
     "name": "stdout",
     "output_type": "stream",
     "text": [
      "simplifiers:  OrderedDict([(<class 'dict'>, (0, <function _simplify_dictionary at 0x000001CF2A84B268>)), (<class 'list'>, (1, <function _simplify_collection at 0x000001CF2A84B048>)), (<class 'range'>, (2, <function _simplify_range at 0x000001CF2A84B488>)), (<class 'set'>, (3, <function _simplify_collection at 0x000001CF2A84B048>)), (<class 'slice'>, (4, <function _simplify_slice at 0x000001CF2A84B6A8>)), (<class 'str'>, (5, <function _simplify_str at 0x000001CF2A84B378>)), (<class 'tuple'>, (6, <function _simplify_collection at 0x000001CF2A84B048>)), (<class 'ellipsis'>, (7, <function _simplify_ellipsis at 0x000001CF2A84B598>)), (<class 'numpy.ndarray'>, (8, <function _simplify_ndarray at 0x000001CF2A84BE18>)), (<class 'torch.device'>, (9, <function _simplify_torch_device at 0x000001CF2A84BF28>)), (<class 'torch.jit.ScriptModule'>, (10, <function _simplify_script_module at 0x000001CF2A84E0D0>)), (<class 'torch.jit.TopLevelTracedModule'>, (10, <function _simplify_script_module at 0x000001CF2A84E0D0>)), (<class 'torch.nn.parameter.Parameter'>, (11, <function _simplify_torch_parameter at 0x000001CF2A84BD08>)), (<class 'torch.Tensor'>, (12, <function _simplify_torch_tensor at 0x000001CF2A84BBF8>)), (<class 'syft.frameworks.torch.tensors.interpreters.additive_shared.AdditiveSharingTensor'>, (13, <function AdditiveSharingTensor.simplify at 0x000001CF2A671F28>)), (<class 'syft.frameworks.torch.tensors.interpreters.precision.FixedPrecisionTensor'>, (14, <function FixedPrecisionTensor.simplify at 0x000001CF2A674840>)), (<class 'syft.frameworks.torch.tensors.decorators.logging.LoggingTensor'>, (15, <function LoggingTensor.simplify at 0x000001CF2A879730>)), (<class 'syft.frameworks.torch.tensors.interpreters.multi_pointer.MultiPointerTensor'>, (16, <function MultiPointerTensor.simplify at 0x000001CF2A868950>)), (<class 'syft.federated.plan.Plan'>, (17, <function Plan.simplify at 0x000001CF2A6C6510>)), (<class 'syft.frameworks.torch.pointers.pointer_tensor.PointerTensor'>, (18, <function PointerTensor.simplify at 0x000001CF2A6D6488>)), (<class 'syft.frameworks.torch.pointers.object_wrapper.ObjectWrapper'>, (19, <function ObjectWrapper.simplify at 0x000001CF2A6D6950>)), (<class 'syft.federated.train_config.TrainConfig'>, (20, <function TrainConfig.simplify at 0x000001CF2A6C6A60>)), (<class 'syft.workers.virtual.VirtualWorker'>, (21, <function VirtualWorker.simplify at 0x000001CF2A6EFB70>)), (<class 'syft.exceptions.GetNotPermittedError'>, (22, <function GetNotPermittedError.simplify at 0x000001CF2A62F6A8>)), (<class 'syft.exceptions.ResponseSignatureError'>, (23, <function ResponseSignatureError.simplify at 0x000001CF2A62F598>))])\n",
      "detailers:  [<function _detail_dictionary at 0x000001CF2A84B2F0>, <function _detail_collection_list at 0x000001CF2A84B0D0>, <function _detail_range at 0x000001CF2A84B510>, <function _detail_collection_set at 0x000001CF2A84B158>, <function _detail_slice at 0x000001CF2A84B730>, <function _detail_str at 0x000001CF2A84B400>, <function _detail_collection_tuple at 0x000001CF2A84B1E0>, <function _detail_ellipsis at 0x000001CF2A84B620>, <function _detail_ndarray at 0x000001CF2A84BEA0>, <function _detail_torch_device at 0x000001CF2A84E048>, <function _detail_script_module at 0x000001CF2A84E158>, <function _detail_torch_parameter at 0x000001CF2A84BD90>, <function _detail_torch_tensor at 0x000001CF2A84BC80>, <function AdditiveSharingTensor.detail at 0x000001CF2A868048>, <function FixedPrecisionTensor.detail at 0x000001CF2A6748C8>, <function LoggingTensor.detail at 0x000001CF2A8797B8>, <function MultiPointerTensor.detail at 0x000001CF2A8689D8>, <function Plan.detail at 0x000001CF2A6C6598>, <function PointerTensor.detail at 0x000001CF2A6D6510>, <function ObjectWrapper.detail at 0x000001CF2A6D69D8>, <function TrainConfig.detail at 0x000001CF2A6C6AE8>, <function VirtualWorker.detail at 0x000001CF2A6EFBF8>, <function GetNotPermittedError.detail at 0x000001CF2A62F730>, <function ResponseSignatureError.detail at 0x000001CF2A62F620>, <function VirtualWorker.force_detail at 0x000001CF2A6EFAE8>]\n"
     ]
    }
   ],
   "source": [
    "import syft as sy\n",
    "from syft.frameworks.torch.tensors.decorators import LoggingTensor\n",
    "import sys\n",
    "import torch\n",
    "hook = sy.TorchHook(torch)"
   ]
  },
  {
   "cell_type": "code",
   "execution_count": 3,
   "metadata": {},
   "outputs": [],
   "source": [
    "from grid.workers.socketio_client import WebsocketIOClientWorker\n",
    "\n",
    "# Config serialiser and compression strategies\n",
    "sy.torch_serde._serialize_tensor = sy.torch_serde.numpy_tensor_serializer\n",
    "sy.torch_serde._deserialize_tensor = sy.torch_serde.numpy_tensor_deserializer\n",
    "sy.serde.serde._apply_compress_scheme = sy.serde.apply_no_compression\n"
   ]
  },
  {
   "cell_type": "code",
   "execution_count": 4,
   "metadata": {},
   "outputs": [],
   "source": [
    "bob = WebsocketIOClientWorker(hook, host='localhost', port=5000, id=\"bob\", verbose=True)"
   ]
  },
  {
   "cell_type": "code",
   "execution_count": 6,
   "metadata": {},
   "outputs": [],
   "source": [
    "#bob.disconnect()\n",
    "bob.connect()"
   ]
  },
  {
   "cell_type": "code",
   "execution_count": 32,
   "metadata": {},
   "outputs": [
    {
     "name": "stdout",
     "output_type": "stream",
     "text": [
      "orig obj: (2, tensor([1., 2., 3., 4., 5.]))\n",
      "simplification\n",
      "simple objects:  (6, (2, (12, (855559220, [147, 78, 85, 77, 80, 89, 1, 0, 118, 0, 123, 39, 100, 101, 115, 99, 114, 39, 58, 32, 39, 60, 102, 52, 39, 44, 32, 39, 102, 111, 114, 116, 114, 97, 110, 95, 111, 114, 100, 101, 114, 39, 58, 32, 70, 97, 108, 115, 101, 44, 32, 39, 115, 104, 97, 112, 101, 39, 58, 32, 40, 53, 44, 41, 44, 32, 125, 32, 32, 32, 32, 32, 32, 32, 32, 32, 32, 32, 32, 32, 32, 32, 32, 32, 32, 32, 32, 32, 32, 32, 32, 32, 32, 32, 32, 32, 32, 32, 32, 32, 32, 32, 32, 32, 32, 32, 32, 32, 32, 32, 32, 32, 32, 32, 32, 32, 32, 32, 32, 32, 32, 32, 32, 32, 32, 32, 32, 10, 0, 0, 128, 63, 0, 0, 0, 64, 0, 0, 64, 64, 0, 0, 128, 64, 0, 0, 160, 64], None, None, None, None))))\n",
      "orig obj: b''\n",
      "simplification\n",
      "simple objects:  b''\n",
      "orig obj: (9, 2397597122)\n",
      "simplification\n",
      "simple objects:  (6, (9, 2397597122))\n",
      "orig obj: b''\n",
      "simplification\n",
      "simple objects:  b''\n"
     ]
    }
   ],
   "source": [
    "x = torch.tensor([1.,2,3,4,5])\n",
    "\n",
    "x_ptr = x.send(bob)"
   ]
  },
  {
   "cell_type": "code",
   "execution_count": 33,
   "metadata": {},
   "outputs": [
    {
     "data": {
      "text/plain": [
       "(Wrapper)>[PointerTensor | me:86354569279 -> bob:855559220]"
      ]
     },
     "execution_count": 33,
     "metadata": {},
     "output_type": "execute_result"
    }
   ],
   "source": [
    "x_ptr"
   ]
  },
  {
   "cell_type": "code",
   "execution_count": 34,
   "metadata": {},
   "outputs": [
    {
     "name": "stdout",
     "output_type": "stream",
     "text": [
      "orig obj: (2, tensor([10., 20., 30., 40., 50.]))\n",
      "simplification\n",
      "simple objects:  (6, (2, (12, (72331800259, [147, 78, 85, 77, 80, 89, 1, 0, 118, 0, 123, 39, 100, 101, 115, 99, 114, 39, 58, 32, 39, 60, 102, 52, 39, 44, 32, 39, 102, 111, 114, 116, 114, 97, 110, 95, 111, 114, 100, 101, 114, 39, 58, 32, 70, 97, 108, 115, 101, 44, 32, 39, 115, 104, 97, 112, 101, 39, 58, 32, 40, 53, 44, 41, 44, 32, 125, 32, 32, 32, 32, 32, 32, 32, 32, 32, 32, 32, 32, 32, 32, 32, 32, 32, 32, 32, 32, 32, 32, 32, 32, 32, 32, 32, 32, 32, 32, 32, 32, 32, 32, 32, 32, 32, 32, 32, 32, 32, 32, 32, 32, 32, 32, 32, 32, 32, 32, 32, 32, 32, 32, 32, 32, 32, 32, 32, 32, 10, 0, 0, 32, 65, 0, 0, 160, 65, 0, 0, 240, 65, 0, 0, 32, 66, 0, 0, 72, 66], None, None, None, None))))\n",
      "orig obj: b''\n",
      "simplification\n",
      "simple objects:  b''\n",
      "orig obj: (9, 48906459363)\n",
      "simplification\n",
      "simple objects:  (6, (9, 48906459363))\n",
      "orig obj: b''\n",
      "simplification\n",
      "simple objects:  b''\n"
     ]
    }
   ],
   "source": [
    "y = torch.tensor([10,20,30,40,50.])\n",
    "y_ptr = y.send(bob)"
   ]
  },
  {
   "cell_type": "code",
   "execution_count": 35,
   "metadata": {},
   "outputs": [
    {
     "data": {
      "text/plain": [
       "(Wrapper)>[PointerTensor | me:26539221986 -> bob:72331800259]"
      ]
     },
     "execution_count": 35,
     "metadata": {},
     "output_type": "execute_result"
    }
   ],
   "source": [
    "y_ptr"
   ]
  },
  {
   "cell_type": "code",
   "execution_count": 36,
   "metadata": {},
   "outputs": [
    {
     "name": "stdout",
     "output_type": "stream",
     "text": [
      "orig obj: (1, (('__add__', [PointerTensor | me:86354569279 -> bob:855559220], (2,), {}), [57927685028]))\n",
      "simplification\n",
      "simple objects:  (6, (1, (6, ((6, ((5, (b'__add__',)), (18, (86354569279, 855559220, 'bob', None, torch.Size([5]), True)), (6, (2,)), (0, []))), (1, [57927685028])))))\n",
      "orig obj: b''\n",
      "simplification\n",
      "simple objects:  b''\n",
      "orig obj: (9, 92280321857)\n",
      "simplification\n",
      "simple objects:  (6, (9, 92280321857))\n",
      "orig obj: b''\n",
      "simplification\n",
      "simple objects:  b''\n"
     ]
    }
   ],
   "source": [
    "z_ptr = x_ptr + 2"
   ]
  },
  {
   "cell_type": "code",
   "execution_count": 37,
   "metadata": {},
   "outputs": [
    {
     "data": {
      "text/plain": [
       "(Wrapper)>[PointerTensor | me:55279401186 -> bob:57927685028]"
      ]
     },
     "execution_count": 37,
     "metadata": {},
     "output_type": "execute_result"
    }
   ],
   "source": [
    "z_ptr"
   ]
  },
  {
   "cell_type": "code",
   "execution_count": 38,
   "metadata": {},
   "outputs": [
    {
     "name": "stdout",
     "output_type": "stream",
     "text": [
      "orig obj: (3, 57927685028)\n",
      "simplification\n",
      "simple objects:  (6, (3, 57927685028))\n",
      "orig obj: b''\n",
      "simplification\n",
      "simple objects:  b''\n"
     ]
    },
    {
     "ename": "AttributeError",
     "evalue": "'bytes' object has no attribute 'is_wrapper'",
     "output_type": "error",
     "traceback": [
      "\u001b[1;31m---------------------------------------------------------------------------\u001b[0m",
      "\u001b[1;31mAttributeError\u001b[0m                            Traceback (most recent call last)",
      "\u001b[1;32m<ipython-input-38-d9f7d0100d7e>\u001b[0m in \u001b[0;36m<module>\u001b[1;34m\u001b[0m\n\u001b[1;32m----> 1\u001b[1;33m \u001b[0mz\u001b[0m \u001b[1;33m=\u001b[0m \u001b[0mz_ptr\u001b[0m\u001b[1;33m.\u001b[0m\u001b[0mget\u001b[0m\u001b[1;33m(\u001b[0m\u001b[1;33m)\u001b[0m\u001b[1;33m\u001b[0m\u001b[1;33m\u001b[0m\u001b[0m\n\u001b[0m",
      "\u001b[1;32mD:\\Anaconda3\\envs\\syft\\lib\\site-packages\\syft-0.1.21a1-py3.7.egg\\syft\\frameworks\\torch\\tensors\\interpreters\\native.py\u001b[0m in \u001b[0;36mget\u001b[1;34m(self, inplace, *args, **kwargs)\u001b[0m\n\u001b[0;32m    578\u001b[0m         \u001b[1;31m#                     return self\u001b[0m\u001b[1;33m\u001b[0m\u001b[1;33m\u001b[0m\u001b[1;33m\u001b[0m\u001b[0m\n\u001b[0;32m    579\u001b[0m \u001b[1;33m\u001b[0m\u001b[0m\n\u001b[1;32m--> 580\u001b[1;33m         \u001b[0mtensor\u001b[0m \u001b[1;33m=\u001b[0m \u001b[0mself\u001b[0m\u001b[1;33m.\u001b[0m\u001b[0mchild\u001b[0m\u001b[1;33m.\u001b[0m\u001b[0mget\u001b[0m\u001b[1;33m(\u001b[0m\u001b[1;33m*\u001b[0m\u001b[0margs\u001b[0m\u001b[1;33m,\u001b[0m \u001b[1;33m**\u001b[0m\u001b[0mkwargs\u001b[0m\u001b[1;33m)\u001b[0m\u001b[1;33m\u001b[0m\u001b[1;33m\u001b[0m\u001b[0m\n\u001b[0m\u001b[0;32m    581\u001b[0m \u001b[1;33m\u001b[0m\u001b[0m\n\u001b[0;32m    582\u001b[0m         \u001b[1;31m# Clean the wrapper\u001b[0m\u001b[1;33m\u001b[0m\u001b[1;33m\u001b[0m\u001b[1;33m\u001b[0m\u001b[0m\n",
      "\u001b[1;32mD:\\Anaconda3\\envs\\syft\\lib\\site-packages\\syft-0.1.21a1-py3.7.egg\\syft\\frameworks\\torch\\pointers\\pointer_tensor.py\u001b[0m in \u001b[0;36mget\u001b[1;34m(self, deregister_ptr)\u001b[0m\n\u001b[0;32m    176\u001b[0m         \u001b[1;31m# The fact we have to check this means\u001b[0m\u001b[1;33m\u001b[0m\u001b[1;33m\u001b[0m\u001b[1;33m\u001b[0m\u001b[0m\n\u001b[0;32m    177\u001b[0m         \u001b[1;31m# something else is probably broken\u001b[0m\u001b[1;33m\u001b[0m\u001b[1;33m\u001b[0m\u001b[1;33m\u001b[0m\u001b[0m\n\u001b[1;32m--> 178\u001b[1;33m         \u001b[1;32mif\u001b[0m \u001b[0mtensor\u001b[0m\u001b[1;33m.\u001b[0m\u001b[0mis_wrapper\u001b[0m\u001b[1;33m:\u001b[0m\u001b[1;33m\u001b[0m\u001b[1;33m\u001b[0m\u001b[0m\n\u001b[0m\u001b[0;32m    179\u001b[0m             \u001b[1;32mif\u001b[0m \u001b[0misinstance\u001b[0m\u001b[1;33m(\u001b[0m\u001b[0mtensor\u001b[0m\u001b[1;33m.\u001b[0m\u001b[0mchild\u001b[0m\u001b[1;33m,\u001b[0m \u001b[0mtorch\u001b[0m\u001b[1;33m.\u001b[0m\u001b[0mTensor\u001b[0m\u001b[1;33m)\u001b[0m\u001b[1;33m:\u001b[0m\u001b[1;33m\u001b[0m\u001b[1;33m\u001b[0m\u001b[0m\n\u001b[0;32m    180\u001b[0m                 \u001b[1;32mreturn\u001b[0m \u001b[0mtensor\u001b[0m\u001b[1;33m.\u001b[0m\u001b[0mchild\u001b[0m\u001b[1;33m\u001b[0m\u001b[1;33m\u001b[0m\u001b[0m\n",
      "\u001b[1;31mAttributeError\u001b[0m: 'bytes' object has no attribute 'is_wrapper'"
     ]
    },
    {
     "name": "stderr",
     "output_type": "stream",
     "text": [
      "W0719 22:36:11.623734 14348 client.py:518] Unexpected status code 400 in server response, aborting\n"
     ]
    },
    {
     "name": "stdout",
     "output_type": "stream",
     "text": [
      "*** <bound method Event.wait of <threading.Event object at 0x000001CF2AA765F8>>\n"
     ]
    },
    {
     "name": "stderr",
     "output_type": "stream",
     "text": [
      "W0720 08:46:24.884445  6084 client.py:518] Unexpected status code 400 in server response, aborting\n"
     ]
    },
    {
     "name": "stdout",
     "output_type": "stream",
     "text": [
      "*** <bound method Event.wait of <threading.Event object at 0x000001CF2AA765F8>>\n"
     ]
    },
    {
     "name": "stderr",
     "output_type": "stream",
     "text": [
      "W0720 10:22:56.207564 19088 client.py:518] Unexpected status code 400 in server response, aborting\n"
     ]
    },
    {
     "name": "stdout",
     "output_type": "stream",
     "text": [
      "*** <bound method Event.wait of <threading.Event object at 0x000001CF2AA765F8>>\n"
     ]
    },
    {
     "name": "stderr",
     "output_type": "stream",
     "text": [
      "W0720 10:57:14.653342 12352 client.py:518] Unexpected status code 400 in server response, aborting\n"
     ]
    },
    {
     "name": "stdout",
     "output_type": "stream",
     "text": [
      "*** <bound method Event.wait of <threading.Event object at 0x000001CF2AA765F8>>\n"
     ]
    },
    {
     "name": "stderr",
     "output_type": "stream",
     "text": [
      "W0720 19:23:25.905593  1632 client.py:518] Unexpected status code 400 in server response, aborting\n"
     ]
    },
    {
     "name": "stdout",
     "output_type": "stream",
     "text": [
      "*** <bound method Event.wait of <threading.Event object at 0x000001CF2AA765F8>>\n"
     ]
    },
    {
     "name": "stderr",
     "output_type": "stream",
     "text": [
      "W0720 23:35:50.634068 19420 client.py:518] Unexpected status code 400 in server response, aborting\n",
      "W0720 23:35:51.512064 14100 client.py:624] Unexpected status code 400 in server response, aborting\n"
     ]
    }
   ],
   "source": [
    "z = z_ptr.get()"
   ]
  },
  {
   "cell_type": "code",
   "execution_count": 13,
   "metadata": {},
   "outputs": [],
   "source": [
    "#z"
   ]
  },
  {
   "cell_type": "code",
   "execution_count": 14,
   "metadata": {},
   "outputs": [],
   "source": [
    "import msgpack\n"
   ]
  }
 ],
 "metadata": {
  "kernelspec": {
   "display_name": "Python 3",
   "language": "python",
   "name": "python3"
  },
  "language_info": {
   "codemirror_mode": {
    "name": "ipython",
    "version": 3
   },
   "file_extension": ".py",
   "mimetype": "text/x-python",
   "name": "python",
   "nbconvert_exporter": "python",
   "pygments_lexer": "ipython3",
   "version": "3.7.3"
  }
 },
 "nbformat": 4,
 "nbformat_minor": 2
}
