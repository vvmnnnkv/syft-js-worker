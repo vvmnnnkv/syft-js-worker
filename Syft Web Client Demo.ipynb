{
  "nbformat": 4,
  "nbformat_minor": 0,
  "metadata": {
    "colab": {
      "name": "Syft Web Client Demo.ipynb",
      "version": "0.3.2",
      "provenance": [],
      "collapsed_sections": [],
      "include_colab_link": true
    },
    "kernelspec": {
      "name": "python3",
      "display_name": "Python 3"
    }
  },
  "cells": [
    {
      "cell_type": "markdown",
      "metadata": {
        "id": "view-in-github",
        "colab_type": "text"
      },
      "source": [
        "<a href=\"https://colab.research.google.com/github/vvmnnnkv/syft-js-worker/blob/master/Syft%20Web%20Client%20Demo.ipynb\" target=\"_parent\"><img src=\"https://colab.research.google.com/assets/colab-badge.svg\" alt=\"Open In Colab\"/></a>"
      ]
    },
    {
      "cell_type": "markdown",
      "metadata": {
        "id": "MtOpmn-eiIw2",
        "colab_type": "text"
      },
      "source": [
        "# Syft Web Worker 🕸\n",
        "\n",
        "This notebook demonstrates the [project](https://github.com/vvmnnnkv/syft-js-worker) created for Udacity's [Secure and Private AI](https://www.udacity.com/course/secure-and-private-ai--ud185) challenge course.\n",
        "\n",
        "[PySyft](https://www.openmined.org/) is the library that (among other things) provides PyTorch wrapper for distributed operations and enables privacy and security applications such as federated learning, multi-party computation, etc.\n",
        "\n",
        "This project explores possibility to have PySyft worker running in the web browser, which potentially expands PySyft  functionality to a very large user-base. The back-end for tensor operations in browser is [tf.js](https://www.tensorflow.org/js).\n",
        "\n",
        "The current project's state is 'proof of concept' where tensors can be moved to/from browser and a limited set of tensor operations is possible. Further direction is to try to use web client for federated learning."
      ]
    },
    {
      "cell_type": "code",
      "metadata": {
        "id": "7AKPLK18SjFG",
        "colab_type": "code",
        "colab": {}
      },
      "source": [
        "# Install PySyft & Grid if not already installed\n",
        "import importlib, sys\n",
        "if importlib.util.find_spec(\"syft\") is None:\n",
        "  !pip install syft==0.1.23a1\n",
        "\n",
        "if importlib.util.find_spec(\"grid\") is None:\n",
        "  !git clone https://github.com/OpenMined/Grid; cd Grid; git checkout 70093e146e6f36d6310abbebfe2c85b680283150; pip install -Ur requirements.txt; python setup.py install\n",
        "  # make it available for import w/o colab runtime restart 🙌\n",
        "  sys.path.insert(0, \"Grid/build/lib\")\n"
      ],
      "execution_count": 0,
      "outputs": []
    },
    {
      "cell_type": "code",
      "metadata": {
        "id": "Ltp6I4p5Szna",
        "colab_type": "code",
        "outputId": "3f77acf9-87f6-4133-edcb-d5adb7d0a3a6",
        "colab": {
          "base_uri": "https://localhost:8080/",
          "height": 507
        }
      },
      "source": [
        "# Imports\n",
        "import syft as sy\n",
        "from syft.frameworks.torch.tensors.decorators import LoggingTensor\n",
        "import sys\n",
        "import torch\n",
        "from grid.workers.socketio_client import WebsocketIOClientWorker\n",
        "\n",
        "# Updated numpy serializer that returns array of bytes instead of string\n",
        "# this allows javascript msgpack to correctly unpack it to array of bytes instead of utf16 string\n",
        "def numpy_tensor_serializer(tensor: torch.Tensor) -> bin:\n",
        "    return list(sy.torch_serde.numpy_tensor_serializer(tensor))\n",
        "\n",
        "# Set numpy serialiser and disable compression\n",
        "sy.torch_serde._serialize_tensor = numpy_tensor_serializer\n",
        "sy.torch_serde._deserialize_tensor = sy.torch_serde.numpy_tensor_deserializer\n",
        "sy.serde.serde._apply_compress_scheme = sy.serde.apply_no_compression\n",
        "\n",
        "hook = sy.TorchHook(torch)"
      ],
      "execution_count": 2,
      "outputs": [
        {
          "output_type": "stream",
          "text": [
            "/usr/local/lib/python3.6/dist-packages/tensorflow/python/framework/dtypes.py:516: FutureWarning: Passing (type, 1) or '1type' as a synonym of type is deprecated; in a future version of numpy, it will be understood as (type, (1,)) / '(1,)type'.\n",
            "  _np_qint8 = np.dtype([(\"qint8\", np.int8, 1)])\n",
            "/usr/local/lib/python3.6/dist-packages/tensorflow/python/framework/dtypes.py:517: FutureWarning: Passing (type, 1) or '1type' as a synonym of type is deprecated; in a future version of numpy, it will be understood as (type, (1,)) / '(1,)type'.\n",
            "  _np_quint8 = np.dtype([(\"quint8\", np.uint8, 1)])\n",
            "/usr/local/lib/python3.6/dist-packages/tensorflow/python/framework/dtypes.py:518: FutureWarning: Passing (type, 1) or '1type' as a synonym of type is deprecated; in a future version of numpy, it will be understood as (type, (1,)) / '(1,)type'.\n",
            "  _np_qint16 = np.dtype([(\"qint16\", np.int16, 1)])\n",
            "/usr/local/lib/python3.6/dist-packages/tensorflow/python/framework/dtypes.py:519: FutureWarning: Passing (type, 1) or '1type' as a synonym of type is deprecated; in a future version of numpy, it will be understood as (type, (1,)) / '(1,)type'.\n",
            "  _np_quint16 = np.dtype([(\"quint16\", np.uint16, 1)])\n",
            "/usr/local/lib/python3.6/dist-packages/tensorflow/python/framework/dtypes.py:520: FutureWarning: Passing (type, 1) or '1type' as a synonym of type is deprecated; in a future version of numpy, it will be understood as (type, (1,)) / '(1,)type'.\n",
            "  _np_qint32 = np.dtype([(\"qint32\", np.int32, 1)])\n",
            "/usr/local/lib/python3.6/dist-packages/tensorflow/python/framework/dtypes.py:525: FutureWarning: Passing (type, 1) or '1type' as a synonym of type is deprecated; in a future version of numpy, it will be understood as (type, (1,)) / '(1,)type'.\n",
            "  np_resource = np.dtype([(\"resource\", np.ubyte, 1)])\n",
            "/usr/local/lib/python3.6/dist-packages/tensorboard/compat/tensorflow_stub/dtypes.py:541: FutureWarning: Passing (type, 1) or '1type' as a synonym of type is deprecated; in a future version of numpy, it will be understood as (type, (1,)) / '(1,)type'.\n",
            "  _np_qint8 = np.dtype([(\"qint8\", np.int8, 1)])\n",
            "/usr/local/lib/python3.6/dist-packages/tensorboard/compat/tensorflow_stub/dtypes.py:542: FutureWarning: Passing (type, 1) or '1type' as a synonym of type is deprecated; in a future version of numpy, it will be understood as (type, (1,)) / '(1,)type'.\n",
            "  _np_quint8 = np.dtype([(\"quint8\", np.uint8, 1)])\n",
            "/usr/local/lib/python3.6/dist-packages/tensorboard/compat/tensorflow_stub/dtypes.py:543: FutureWarning: Passing (type, 1) or '1type' as a synonym of type is deprecated; in a future version of numpy, it will be understood as (type, (1,)) / '(1,)type'.\n",
            "  _np_qint16 = np.dtype([(\"qint16\", np.int16, 1)])\n",
            "/usr/local/lib/python3.6/dist-packages/tensorboard/compat/tensorflow_stub/dtypes.py:544: FutureWarning: Passing (type, 1) or '1type' as a synonym of type is deprecated; in a future version of numpy, it will be understood as (type, (1,)) / '(1,)type'.\n",
            "  _np_quint16 = np.dtype([(\"quint16\", np.uint16, 1)])\n",
            "/usr/local/lib/python3.6/dist-packages/tensorboard/compat/tensorflow_stub/dtypes.py:545: FutureWarning: Passing (type, 1) or '1type' as a synonym of type is deprecated; in a future version of numpy, it will be understood as (type, (1,)) / '(1,)type'.\n",
            "  _np_qint32 = np.dtype([(\"qint32\", np.int32, 1)])\n",
            "/usr/local/lib/python3.6/dist-packages/tensorboard/compat/tensorflow_stub/dtypes.py:550: FutureWarning: Passing (type, 1) or '1type' as a synonym of type is deprecated; in a future version of numpy, it will be understood as (type, (1,)) / '(1,)type'.\n",
            "  np_resource = np.dtype([(\"resource\", np.ubyte, 1)])\n",
            "WARNING: Logging before flag parsing goes to stderr.\n",
            "W0820 07:31:57.021002 139996775618432 secure_random.py:26] Falling back to insecure randomness since the required custom op could not be found for the installed version of TensorFlow. Fix this by compiling custom ops. Missing file was '/usr/local/lib/python3.6/dist-packages/tf_encrypted/operations/secure_random/secure_random_module_tf_1.14.0.so'\n",
            "W0820 07:31:57.040961 139996775618432 deprecation_wrapper.py:119] From /usr/local/lib/python3.6/dist-packages/tf_encrypted/session.py:26: The name tf.Session is deprecated. Please use tf.compat.v1.Session instead.\n",
            "\n"
          ],
          "name": "stderr"
        }
      ]
    },
    {
      "cell_type": "markdown",
      "metadata": {
        "id": "qKOimV34hYT_",
        "colab_type": "text"
      },
      "source": [
        "## Connect PySyft Worker\n",
        "SocketIO [server](https://github.com/vvmnnnkv/syft-js-worker/blob/master/run_socketio_server.py) running at [syft-socketio-server.herokuapp.com](http://syft-socketio-server.herokuapp.com/) is a proxy between WebsocketIOClientWorker in this notebook and javascript worker in the browser.\n",
        "\n",
        "First, let's create and connect PySyft worker client in the notebook.\n",
        "\n",
        "NOTE: It may take several attempts to connect because heroku needs some time to warm up application if it was in the sleep mode."
      ]
    },
    {
      "cell_type": "code",
      "metadata": {
        "id": "EEPX-BsdTOZ4",
        "colab_type": "code",
        "colab": {}
      },
      "source": [
        "# web worker proxy\n",
        "host = 'syft-socketio-server.herokuapp.com'\n",
        "port = 443\n",
        "\n",
        "\n",
        "bob = WebsocketIOClientWorker(hook, host=host, port=port, id=\"bob\", verbose=True)\n",
        "# workaround to use https\n",
        "bob.uri = bob.uri.replace('http:', 'https:')\n",
        "bob.connect()"
      ],
      "execution_count": 0,
      "outputs": []
    },
    {
      "cell_type": "markdown",
      "metadata": {
        "id": "WSdfZsk0mKsq",
        "colab_type": "text"
      },
      "source": [
        "## Connect Javacript Worker\n",
        "\n",
        "Open https://vvmnnnkv.github.io/syft-js-worker and make sure it connects.\n",
        "\n",
        "Now, we can send tensors and commands to worker and get results back. You should see activity in the browser as it happens."
      ]
    },
    {
      "cell_type": "code",
      "metadata": {
        "id": "zgV8D1bhV5Dc",
        "colab_type": "code",
        "colab": {
          "base_uri": "https://localhost:8080/",
          "height": 34
        },
        "outputId": "62beb3aa-a304-4650-95e2-05eac1dce99c"
      },
      "source": [
        "x = torch.tensor([1., 2, 3, 4, 5])\n",
        "x_ptr = x.send(bob)\n",
        "x_ptr"
      ],
      "execution_count": 4,
      "outputs": [
        {
          "output_type": "execute_result",
          "data": {
            "text/plain": [
              "(Wrapper)>[PointerTensor | me:76500745384 -> bob:65360466797]"
            ]
          },
          "metadata": {
            "tags": []
          },
          "execution_count": 4
        }
      ]
    },
    {
      "cell_type": "code",
      "metadata": {
        "id": "R034qcxaV_ey",
        "colab_type": "code",
        "colab": {
          "base_uri": "https://localhost:8080/",
          "height": 34
        },
        "outputId": "4ad8d62c-9dce-4fdc-8b6b-81cb2bef313a"
      },
      "source": [
        "y = torch.tensor([10., 20, 30, 40, 50])\n",
        "y_ptr = y.send(bob)\n",
        "y_ptr"
      ],
      "execution_count": 5,
      "outputs": [
        {
          "output_type": "execute_result",
          "data": {
            "text/plain": [
              "(Wrapper)>[PointerTensor | me:16583742608 -> bob:41505342497]"
            ]
          },
          "metadata": {
            "tags": []
          },
          "execution_count": 5
        }
      ]
    },
    {
      "cell_type": "code",
      "metadata": {
        "id": "ssYyZjTqoHfc",
        "colab_type": "code",
        "colab": {
          "base_uri": "https://localhost:8080/",
          "height": 34
        },
        "outputId": "41a70de7-2d54-4c31-a090-fe82b3417a53"
      },
      "source": [
        "z_ptr = x_ptr + y_ptr\n",
        "z = z_ptr.get()\n",
        "z"
      ],
      "execution_count": 6,
      "outputs": [
        {
          "output_type": "execute_result",
          "data": {
            "text/plain": [
              "tensor([11., 22., 33., 44., 55.])"
            ]
          },
          "metadata": {
            "tags": []
          },
          "execution_count": 6
        }
      ]
    },
    {
      "cell_type": "code",
      "metadata": {
        "id": "mdm9fn4XoP-y",
        "colab_type": "code",
        "colab": {
          "base_uri": "https://localhost:8080/",
          "height": 34
        },
        "outputId": "221ee808-7c3a-40e1-91ec-45d5ba14df15"
      },
      "source": [
        "z_ptr = x_ptr * y_ptr\n",
        "z = z_ptr.get()\n",
        "z"
      ],
      "execution_count": 7,
      "outputs": [
        {
          "output_type": "execute_result",
          "data": {
            "text/plain": [
              "tensor([ 10.,  40.,  90., 160., 250.])"
            ]
          },
          "metadata": {
            "tags": []
          },
          "execution_count": 7
        }
      ]
    },
    {
      "cell_type": "code",
      "metadata": {
        "id": "awI1D_FLoVSE",
        "colab_type": "code",
        "colab": {
          "base_uri": "https://localhost:8080/",
          "height": 185
        },
        "outputId": "65752178-a28c-48e7-c6a2-c403682d52c5"
      },
      "source": [
        "# Simplest linear layer\n",
        "X_ptr = torch.randn(10, 3).send(bob)\n",
        "w_ptr = torch.randn(3, 1).send(bob)\n",
        "b_ptr = torch.randn(1).send(bob)\n",
        "\n",
        "z_ptr = X_ptr @ w_ptr + b_ptr\n",
        "z = z_ptr.get()\n",
        "z"
      ],
      "execution_count": 8,
      "outputs": [
        {
          "output_type": "execute_result",
          "data": {
            "text/plain": [
              "tensor([[ 1.9099e+00],\n",
              "        [-2.6491e+00],\n",
              "        [-9.9331e-04],\n",
              "        [ 6.5311e-01],\n",
              "        [-7.6598e-01],\n",
              "        [ 7.2922e-02],\n",
              "        [ 2.2542e+00],\n",
              "        [-6.8194e-01],\n",
              "        [ 1.2716e+00],\n",
              "        [ 1.6517e+00]])"
            ]
          },
          "metadata": {
            "tags": []
          },
          "execution_count": 8
        }
      ]
    },
    {
      "cell_type": "code",
      "metadata": {
        "id": "A57ATqhGpb43",
        "colab_type": "code",
        "colab": {}
      },
      "source": [
        ""
      ],
      "execution_count": 0,
      "outputs": []
    }
  ]
}