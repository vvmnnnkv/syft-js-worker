{
 "cells": [
  {
   "cell_type": "code",
   "execution_count": null,
   "metadata": {},
   "outputs": [],
   "source": [
    "%load_ext autoreload\n",
    "%autoreload 2"
   ]
  },
  {
   "cell_type": "code",
   "execution_count": 1,
   "metadata": {},
   "outputs": [
    {
     "name": "stderr",
     "output_type": "stream",
     "text": [
      "WARNING: Logging before flag parsing goes to stderr.\n",
      "W0801 05:09:40.001034 16660 secure_random.py:26] Falling back to insecure randomness since the required custom op could not be found for the installed version of TensorFlow. Fix this by compiling custom ops. Missing file was 'D:\\Anaconda3\\envs\\syft\\lib\\site-packages\\tf_encrypted/operations/secure_random/secure_random_module_tf_1.14.0.so'\n",
      "W0801 05:09:40.075047 16660 deprecation_wrapper.py:119] From D:\\Anaconda3\\envs\\syft\\lib\\site-packages\\tf_encrypted\\session.py:26: The name tf.Session is deprecated. Please use tf.compat.v1.Session instead.\n",
      "\n"
     ]
    },
    {
     "name": "stdout",
     "output_type": "stream",
     "text": [
      "SIMPLIFIERS OrderedDict([(<class 'dict'>, (0, <function _simplify_dictionary at 0x0000015A023E26A8>)), (<class 'list'>, (1, <function _simplify_collection at 0x0000015A023E2488>)), (<class 'range'>, (2, <function _simplify_range at 0x0000015A023E28C8>)), (<class 'set'>, (3, <function _simplify_collection at 0x0000015A023E2488>)), (<class 'slice'>, (4, <function _simplify_slice at 0x0000015A023E2AE8>)), (<class 'str'>, (5, <function _simplify_str at 0x0000015A023E27B8>)), (<class 'tuple'>, (6, <function _simplify_collection at 0x0000015A023E2488>)), (<class 'ellipsis'>, (7, <function _simplify_ellipsis at 0x0000015A023E29D8>)), (<class 'numpy.ndarray'>, (8, <function _simplify_ndarray at 0x0000015A024152F0>)), (<class 'torch.device'>, (9, <function _simplify_torch_device at 0x0000015A02415400>)), (<class 'torch.jit.ScriptModule'>, (10, <function _simplify_script_module at 0x0000015A02415510>)), (<class 'torch.jit.TopLevelTracedModule'>, (10, <function _simplify_script_module at 0x0000015A02415510>)), (<class 'torch.nn.parameter.Parameter'>, (11, <function _simplify_torch_parameter at 0x0000015A024151E0>)), (<class 'torch.Tensor'>, (12, <function _simplify_torch_tensor at 0x0000015A024150D0>)), (<class 'syft.frameworks.torch.tensors.interpreters.additive_shared.AdditiveSharingTensor'>, (13, <function AdditiveSharingTensor.simplify at 0x0000015A022ED400>)), (<class 'syft.frameworks.torch.tensors.interpreters.precision.FixedPrecisionTensor'>, (14, <function FixedPrecisionTensor.simplify at 0x0000015A022C7BF8>)), (<class 'syft.frameworks.torch.tensors.decorators.logging.LoggingTensor'>, (15, <function LoggingTensor.simplify at 0x0000015A02312B70>)), (<class 'syft.frameworks.torch.tensors.interpreters.multi_pointer.MultiPointerTensor'>, (16, <function MultiPointerTensor.simplify at 0x0000015A022EDD90>)), (<class 'syft.federated.plan.Plan'>, (17, <function Plan.simplify at 0x0000015A02230840>)), (<class 'syft.frameworks.torch.pointers.pointer_tensor.PointerTensor'>, (18, <function PointerTensor.simplify at 0x0000015A022557B8>)), (<class 'syft.frameworks.torch.pointers.object_wrapper.ObjectWrapper'>, (19, <function ObjectWrapper.simplify at 0x0000015A02255C80>)), (<class 'syft.federated.train_config.TrainConfig'>, (20, <function TrainConfig.simplify at 0x0000015A02230D90>)), (<class 'syft.workers.virtual.VirtualWorker'>, (21, <function VirtualWorker.simplify at 0x0000015A02258EA0>)), (<class 'syft.exceptions.GetNotPermittedError'>, (22, <function GetNotPermittedError.simplify at 0x0000015A021C49D8>)), (<class 'syft.exceptions.ResponseSignatureError'>, (23, <function ResponseSignatureError.simplify at 0x0000015A021C48C8>))])\n",
      "DETAILERS [<function _detail_dictionary at 0x0000015A023E2730>, <function _detail_collection_list at 0x0000015A023E2510>, <function _detail_range at 0x0000015A023E2950>, <function _detail_collection_set at 0x0000015A023E2598>, <function _detail_slice at 0x0000015A023E2B70>, <function _detail_str at 0x0000015A023E2840>, <function _detail_collection_tuple at 0x0000015A023E2620>, <function _detail_ellipsis at 0x0000015A023E2A60>, <function _detail_ndarray at 0x0000015A02415378>, <function _detail_torch_device at 0x0000015A02415488>, <function _detail_script_module at 0x0000015A02415598>, <function _detail_torch_parameter at 0x0000015A02415268>, <function _detail_torch_tensor at 0x0000015A02415158>, <function AdditiveSharingTensor.detail at 0x0000015A022ED488>, <function FixedPrecisionTensor.detail at 0x0000015A022C7C80>, <function LoggingTensor.detail at 0x0000015A02312BF8>, <function MultiPointerTensor.detail at 0x0000015A022EDE18>, <function Plan.detail at 0x0000015A022308C8>, <function PointerTensor.detail at 0x0000015A02255840>, <function ObjectWrapper.detail at 0x0000015A02255D08>, <function TrainConfig.detail at 0x0000015A02230E18>, <function VirtualWorker.detail at 0x0000015A02258F28>, <function GetNotPermittedError.detail at 0x0000015A021C4A60>, <function ResponseSignatureError.detail at 0x0000015A021C4950>, <function VirtualWorker.force_detail at 0x0000015A02258E18>]\n"
     ]
    }
   ],
   "source": [
    "import syft as sy\n",
    "from syft.frameworks.torch.tensors.decorators import LoggingTensor\n",
    "import sys\n",
    "import torch\n",
    "hook = sy.TorchHook(torch)"
   ]
  },
  {
   "cell_type": "code",
   "execution_count": 2,
   "metadata": {},
   "outputs": [],
   "source": [
    "from grid.workers.socketio_client import WebsocketIOClientWorker\n",
    "\n",
    "# updated serializer that returns array of bytes instead of string\n",
    "# this allows javascript msgpack to correctly unpack it\n",
    "def numpy_tensor_serializer(tensor: torch.Tensor) -> bin:\n",
    "    return list(sy.torch_serde.numpy_tensor_serializer(tensor))\n",
    "\n",
    "def des(tensor_bin) -> torch.Tensor:\n",
    "    print(\"DES NUMPY\", tensor_bin)\n",
    "    res = sy.torch_serde.numpy_tensor_deserializer(tensor_bin)\n",
    "    print(res)\n",
    "    return res\n",
    "\n",
    "# Config serialiser and compression strategies\n",
    "sy.torch_serde._serialize_tensor = numpy_tensor_serializer\n",
    "sy.torch_serde._deserialize_tensor = des\n",
    "sy.serde.serde._apply_compress_scheme = sy.serde.apply_no_compression\n"
   ]
  },
  {
   "cell_type": "code",
   "execution_count": 36,
   "metadata": {},
   "outputs": [],
   "source": [
    "bob = WebsocketIOClientWorker(hook, host='syft-socketio-server.herokuapp.com', port=443, id=\"bob27\", verbose=True)\n",
    "bob.uri = bob.uri.replace('http:', 'https:')\n",
    "#bob.sio.connect(bob.uri, headers={\"Origin\": \"https://localhost:8080/\"})\n"
   ]
  },
  {
   "cell_type": "code",
   "execution_count": 37,
   "metadata": {},
   "outputs": [
    {
     "name": "stdout",
     "output_type": "stream",
     "text": [
      "https://syft-socketio-server.herokuapp.com:443\n"
     ]
    }
   ],
   "source": [
    "#bob.disconnect()\n",
    "print(bob.uri)\n",
    "bob.connect()"
   ]
  },
  {
   "cell_type": "code",
   "execution_count": 38,
   "metadata": {
    "scrolled": true
   },
   "outputs": [
    {
     "name": "stdout",
     "output_type": "stream",
     "text": [
      "SIMPLE OBJ:  (6, (2, (12, (26127884983, [147, 78, 85, 77, 80, 89, 1, 0, 118, 0, 123, 39, 100, 101, 115, 99, 114, 39, 58, 32, 39, 60, 102, 52, 39, 44, 32, 39, 102, 111, 114, 116, 114, 97, 110, 95, 111, 114, 100, 101, 114, 39, 58, 32, 70, 97, 108, 115, 101, 44, 32, 39, 115, 104, 97, 112, 101, 39, 58, 32, 40, 53, 44, 32, 49, 48, 41, 44, 32, 125, 32, 32, 32, 32, 32, 32, 32, 32, 32, 32, 32, 32, 32, 32, 32, 32, 32, 32, 32, 32, 32, 32, 32, 32, 32, 32, 32, 32, 32, 32, 32, 32, 32, 32, 32, 32, 32, 32, 32, 32, 32, 32, 32, 32, 32, 32, 32, 32, 32, 32, 32, 32, 32, 32, 32, 32, 32, 10, 216, 47, 5, 191, 149, 224, 130, 63, 142, 59, 101, 63, 253, 57, 144, 190, 143, 241, 248, 62, 38, 246, 148, 189, 137, 235, 68, 63, 148, 197, 146, 191, 118, 24, 17, 64, 201, 0, 196, 62, 96, 65, 133, 62, 181, 178, 173, 189, 237, 103, 255, 63, 89, 231, 203, 191, 238, 142, 15, 191, 193, 112, 132, 191, 9, 35, 178, 190, 200, 75, 12, 191, 132, 252, 46, 63, 232, 218, 140, 62, 103, 210, 176, 190, 154, 123, 248, 62, 111, 211, 167, 63, 36, 245, 128, 62, 245, 19, 99, 191, 165, 135, 194, 190, 84, 71, 249, 190, 10, 119, 140, 63, 87, 175, 156, 63, 150, 48, 152, 191, 15, 210, 153, 190, 212, 145, 12, 191, 28, 146, 94, 191, 117, 204, 206, 63, 248, 98, 69, 189, 19, 134, 9, 188, 184, 87, 149, 190, 151, 26, 98, 191, 197, 216, 15, 63, 209, 240, 188, 63, 46, 181, 106, 190, 94, 206, 14, 192, 99, 53, 132, 191, 68, 204, 160, 63, 97, 219, 135, 191, 1, 239, 240, 191, 227, 176, 18, 191, 158, 45, 128, 190, 28, 237, 97, 191, 127, 219, 112, 190], None, None, None, None))))\n",
      "SIMPLE OBJ:  b''\n",
      "SIMPLE OBJ:  (6, (9, 51867438492))\n",
      "SIMPLE OBJ:  b''\n"
     ]
    }
   ],
   "source": [
    "x = torch.randn(5, 10)\n",
    "x_ptr = x.send(bob)\n",
    "#y = torch.randn(10, 1)\n",
    "#y_ptr = y.send(bob)\n",
    "\n",
    "#z_ptr = x_ptr @ y_ptr\n",
    "#z = z_ptr.get()\n",
    "#z"
   ]
  },
  {
   "cell_type": "code",
   "execution_count": null,
   "metadata": {},
   "outputs": [],
   "source": [
    "x_ptr"
   ]
  },
  {
   "cell_type": "code",
   "execution_count": null,
   "metadata": {},
   "outputs": [],
   "source": [
    "y = torch.tensor([10,20,30,40,50.])\n",
    "y_ptr = y.send(bob)"
   ]
  },
  {
   "cell_type": "code",
   "execution_count": null,
   "metadata": {},
   "outputs": [],
   "source": [
    "y_ptr"
   ]
  },
  {
   "cell_type": "code",
   "execution_count": null,
   "metadata": {},
   "outputs": [],
   "source": [
    "z_ptr = x_ptr + 2"
   ]
  },
  {
   "cell_type": "code",
   "execution_count": null,
   "metadata": {},
   "outputs": [],
   "source": [
    "z_ptr"
   ]
  },
  {
   "cell_type": "code",
   "execution_count": null,
   "metadata": {},
   "outputs": [],
   "source": [
    "z = z_ptr.get()"
   ]
  },
  {
   "cell_type": "code",
   "execution_count": null,
   "metadata": {},
   "outputs": [],
   "source": [
    "import msgpack\n",
    "\n"
   ]
  },
  {
   "cell_type": "code",
   "execution_count": null,
   "metadata": {},
   "outputs": [],
   "source": [
    "a = msgpack.dumps((1,2,(3,4)))"
   ]
  },
  {
   "cell_type": "code",
   "execution_count": null,
   "metadata": {},
   "outputs": [],
   "source": [
    "a"
   ]
  },
  {
   "cell_type": "code",
   "execution_count": null,
   "metadata": {},
   "outputs": [],
   "source": [
    "msgpack.loads(a)"
   ]
  },
  {
   "cell_type": "code",
   "execution_count": null,
   "metadata": {},
   "outputs": [],
   "source": []
  }
 ],
 "metadata": {
  "kernelspec": {
   "display_name": "Python 3",
   "language": "python",
   "name": "python3"
  },
  "language_info": {
   "codemirror_mode": {
    "name": "ipython",
    "version": 3
   },
   "file_extension": ".py",
   "mimetype": "text/x-python",
   "name": "python",
   "nbconvert_exporter": "python",
   "pygments_lexer": "ipython3",
   "version": "3.7.3"
  }
 },
 "nbformat": 4,
 "nbformat_minor": 2
}
