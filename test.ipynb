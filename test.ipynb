{
 "cells": [
  {
   "cell_type": "code",
   "execution_count": 1,
   "metadata": {},
   "outputs": [],
   "source": [
    "%load_ext autoreload\n",
    "%autoreload 2"
   ]
  },
  {
   "cell_type": "code",
   "execution_count": 2,
   "metadata": {},
   "outputs": [
    {
     "name": "stderr",
     "output_type": "stream",
     "text": [
      "WARNING: Logging before flag parsing goes to stderr.\n",
      "W0731 09:14:19.424614 21996 secure_random.py:26] Falling back to insecure randomness since the required custom op could not be found for the installed version of TensorFlow. Fix this by compiling custom ops. Missing file was 'D:\\Anaconda3\\envs\\syft\\lib\\site-packages\\tf_encrypted/operations/secure_random/secure_random_module_tf_1.14.0.so'\n",
      "W0731 09:14:19.449625 21996 deprecation_wrapper.py:119] From D:\\Anaconda3\\envs\\syft\\lib\\site-packages\\tf_encrypted\\session.py:26: The name tf.Session is deprecated. Please use tf.compat.v1.Session instead.\n",
      "\n"
     ]
    },
    {
     "name": "stdout",
     "output_type": "stream",
     "text": [
      "simplifiers:  OrderedDict([(<class 'dict'>, (0, <function _simplify_dictionary at 0x0000018869CD7268>)), (<class 'list'>, (1, <function _simplify_collection at 0x0000018869CD7048>)), (<class 'range'>, (2, <function _simplify_range at 0x0000018869CD7488>)), (<class 'set'>, (3, <function _simplify_collection at 0x0000018869CD7048>)), (<class 'slice'>, (4, <function _simplify_slice at 0x0000018869CD76A8>)), (<class 'str'>, (5, <function _simplify_str at 0x0000018869CD7378>)), (<class 'tuple'>, (6, <function _simplify_collection at 0x0000018869CD7048>)), (<class 'ellipsis'>, (7, <function _simplify_ellipsis at 0x0000018869CD7598>)), (<class 'numpy.ndarray'>, (8, <function _simplify_ndarray at 0x0000018869CD7E18>)), (<class 'torch.device'>, (9, <function _simplify_torch_device at 0x0000018869CD7F28>)), (<class 'torch.jit.ScriptModule'>, (10, <function _simplify_script_module at 0x0000018869CD90D0>)), (<class 'torch.jit.TopLevelTracedModule'>, (10, <function _simplify_script_module at 0x0000018869CD90D0>)), (<class 'torch.nn.parameter.Parameter'>, (11, <function _simplify_torch_parameter at 0x0000018869CD7D08>)), (<class 'torch.Tensor'>, (12, <function _simplify_torch_tensor at 0x0000018869CD7BF8>)), (<class 'syft.frameworks.torch.tensors.interpreters.additive_shared.AdditiveSharingTensor'>, (13, <function AdditiveSharingTensor.simplify at 0x0000018869C0FF28>)), (<class 'syft.frameworks.torch.tensors.interpreters.precision.FixedPrecisionTensor'>, (14, <function FixedPrecisionTensor.simplify at 0x0000018869C08840>)), (<class 'syft.frameworks.torch.tensors.decorators.logging.LoggingTensor'>, (15, <function LoggingTensor.simplify at 0x0000018869DC6730>)), (<class 'syft.frameworks.torch.tensors.interpreters.multi_pointer.MultiPointerTensor'>, (16, <function MultiPointerTensor.simplify at 0x0000018869DB5950>)), (<class 'syft.federated.plan.Plan'>, (17, <function Plan.simplify at 0x0000018869C18510>)), (<class 'syft.frameworks.torch.pointers.pointer_tensor.PointerTensor'>, (18, <function PointerTensor.simplify at 0x0000018869BEC488>)), (<class 'syft.frameworks.torch.pointers.object_wrapper.ObjectWrapper'>, (19, <function ObjectWrapper.simplify at 0x0000018869BEC950>)), (<class 'syft.federated.train_config.TrainConfig'>, (20, <function TrainConfig.simplify at 0x0000018869C18A60>)), (<class 'syft.workers.virtual.VirtualWorker'>, (21, <function VirtualWorker.simplify at 0x0000018869C47B70>)), (<class 'syft.exceptions.GetNotPermittedError'>, (22, <function GetNotPermittedError.simplify at 0x0000018869B7D6A8>)), (<class 'syft.exceptions.ResponseSignatureError'>, (23, <function ResponseSignatureError.simplify at 0x0000018869B7D598>))])\n",
      "detailers:  [<function _detail_dictionary at 0x0000018869CD72F0>, <function _detail_collection_list at 0x0000018869CD70D0>, <function _detail_range at 0x0000018869CD7510>, <function _detail_collection_set at 0x0000018869CD7158>, <function _detail_slice at 0x0000018869CD7730>, <function _detail_str at 0x0000018869CD7400>, <function _detail_collection_tuple at 0x0000018869CD71E0>, <function _detail_ellipsis at 0x0000018869CD7620>, <function _detail_ndarray at 0x0000018869CD7EA0>, <function _detail_torch_device at 0x0000018869CD9048>, <function _detail_script_module at 0x0000018869CD9158>, <function _detail_torch_parameter at 0x0000018869CD7D90>, <function _detail_torch_tensor at 0x0000018869CD7C80>, <function AdditiveSharingTensor.detail at 0x0000018869DB5048>, <function FixedPrecisionTensor.detail at 0x0000018869C088C8>, <function LoggingTensor.detail at 0x0000018869DC67B8>, <function MultiPointerTensor.detail at 0x0000018869DB59D8>, <function Plan.detail at 0x0000018869C18598>, <function PointerTensor.detail at 0x0000018869BEC510>, <function ObjectWrapper.detail at 0x0000018869BEC9D8>, <function TrainConfig.detail at 0x0000018869C18AE8>, <function VirtualWorker.detail at 0x0000018869C47BF8>, <function GetNotPermittedError.detail at 0x0000018869B7D730>, <function ResponseSignatureError.detail at 0x0000018869B7D620>, <function VirtualWorker.force_detail at 0x0000018869C47AE8>]\n"
     ]
    }
   ],
   "source": [
    "import syft as sy\n",
    "from syft.frameworks.torch.tensors.decorators import LoggingTensor\n",
    "import sys\n",
    "import torch\n",
    "hook = sy.TorchHook(torch)"
   ]
  },
  {
   "cell_type": "code",
   "execution_count": 9,
   "metadata": {},
   "outputs": [],
   "source": [
    "from grid.workers.socketio_client import WebsocketIOClientWorker\n",
    "\n",
    "# updated serializer that returns array of bytes instead of string\n",
    "# this allows javascript msgpack to correctly unpack it\n",
    "def numpy_tensor_serializer(tensor: torch.Tensor) -> bin:\n",
    "    return list(sy.torch_serde.numpy_tensor_serializer(tensor))\n",
    "\n",
    "def des(tensor_bin) -> torch.Tensor:\n",
    "    print(\"DES NUMPY\", tensor_bin)\n",
    "    res = sy.torch_serde.numpy_tensor_deserializer(tensor_bin)\n",
    "    print(res)\n",
    "    return res\n",
    "\n",
    "# Config serialiser and compression strategies\n",
    "sy.torch_serde._serialize_tensor = numpy_tensor_serializer\n",
    "sy.torch_serde._deserialize_tensor = des\n",
    "sy.serde.serde._apply_compress_scheme = sy.serde.apply_no_compression\n"
   ]
  },
  {
   "cell_type": "code",
   "execution_count": 4,
   "metadata": {},
   "outputs": [],
   "source": [
    "bob = WebsocketIOClientWorker(hook, host='localhost', port=5000, id=\"bob\", verbose=True)"
   ]
  },
  {
   "cell_type": "code",
   "execution_count": 5,
   "metadata": {},
   "outputs": [],
   "source": [
    "#bob.disconnect()\n",
    "bob.connect()"
   ]
  },
  {
   "cell_type": "code",
   "execution_count": 42,
   "metadata": {
    "scrolled": true
   },
   "outputs": [
    {
     "name": "stdout",
     "output_type": "stream",
     "text": [
      "orig obj: (2, tensor([[ 0.0453, -0.8559, -0.9521, -0.3333,  0.1901,  0.6325,  0.3461,  1.0192,\n",
      "         -1.0191,  0.2625],\n",
      "        [ 0.5184, -0.5853, -0.6988,  1.1729,  0.4928, -0.6651,  1.4162,  0.5015,\n",
      "         -0.7202, -0.6425],\n",
      "        [-1.3179,  1.5427,  0.1973, -0.3906, -1.0611, -0.3469,  1.0482, -0.2561,\n",
      "         -0.8080, -0.5081],\n",
      "        [-0.5459, -1.6007, -0.1256, -1.0724,  1.3261,  1.0706, -0.3714, -1.4128,\n",
      "         -0.8588, -0.1088],\n",
      "        [ 1.4731, -0.0873,  1.3829, -0.7335,  1.2752,  0.2288, -1.1344,  0.2211,\n",
      "          2.0032, -0.9908]]))\n",
      "simplification\n",
      "simple objects:  (6, (2, (12, (99180929184, [147, 78, 85, 77, 80, 89, 1, 0, 118, 0, 123, 39, 100, 101, 115, 99, 114, 39, 58, 32, 39, 60, 102, 52, 39, 44, 32, 39, 102, 111, 114, 116, 114, 97, 110, 95, 111, 114, 100, 101, 114, 39, 58, 32, 70, 97, 108, 115, 101, 44, 32, 39, 115, 104, 97, 112, 101, 39, 58, 32, 40, 53, 44, 32, 49, 48, 41, 44, 32, 125, 32, 32, 32, 32, 32, 32, 32, 32, 32, 32, 32, 32, 32, 32, 32, 32, 32, 32, 32, 32, 32, 32, 32, 32, 32, 32, 32, 32, 32, 32, 32, 32, 32, 32, 32, 32, 32, 32, 32, 32, 32, 32, 32, 32, 32, 32, 32, 32, 32, 32, 32, 32, 32, 32, 32, 32, 32, 10, 99, 105, 57, 61, 28, 31, 91, 191, 85, 190, 115, 191, 132, 164, 170, 190, 115, 182, 66, 62, 234, 236, 33, 63, 154, 54, 177, 62, 218, 115, 130, 63, 92, 114, 130, 191, 134, 98, 134, 62, 244, 181, 4, 63, 77, 213, 21, 191, 195, 226, 50, 191, 229, 32, 150, 63, 163, 80, 252, 62, 63, 69, 42, 191, 24, 69, 181, 63, 106, 100, 0, 63, 163, 92, 56, 191, 160, 119, 36, 191, 145, 176, 168, 191, 97, 118, 197, 63, 51, 12, 74, 62, 6, 3, 200, 190, 58, 211, 135, 191, 185, 153, 177, 190, 19, 44, 134, 63, 185, 37, 131, 190, 79, 217, 78, 191, 95, 20, 2, 191, 23, 192, 11, 191, 242, 226, 204, 191, 234, 163, 0, 190, 145, 67, 137, 191, 88, 189, 169, 63, 4, 10, 137, 63, 18, 46, 190, 190, 218, 213, 180, 191, 29, 215, 91, 191, 203, 192, 222, 189, 255, 143, 188, 63, 18, 214, 178, 189, 28, 3, 177, 63, 168, 201, 59, 191, 183, 57, 163, 63, 213, 80, 106, 62, 47, 52, 145, 191, 250, 91, 98, 62, 245, 51, 0, 64, 98, 162, 125, 191], None, None, None, None))))\n",
      "orig obj: b''\n",
      "simplification\n",
      "simple objects:  b''\n",
      "DETAIL OBJ b''\n",
      "orig obj: (9, 28258550507)\n",
      "simplification\n",
      "simple objects:  (6, (9, 28258550507))\n",
      "orig obj: b''\n",
      "simplification\n",
      "simple objects:  b''\n",
      "DETAIL OBJ b''\n",
      "orig obj: (2, tensor([[-0.5566],\n",
      "        [ 1.4067],\n",
      "        [ 1.8124],\n",
      "        [ 0.2468],\n",
      "        [ 0.4792],\n",
      "        [ 1.3505],\n",
      "        [ 2.1708],\n",
      "        [ 1.2290],\n",
      "        [-0.3677],\n",
      "        [-1.2582]]))\n",
      "simplification\n",
      "simple objects:  (6, (2, (12, (78868433076, [147, 78, 85, 77, 80, 89, 1, 0, 118, 0, 123, 39, 100, 101, 115, 99, 114, 39, 58, 32, 39, 60, 102, 52, 39, 44, 32, 39, 102, 111, 114, 116, 114, 97, 110, 95, 111, 114, 100, 101, 114, 39, 58, 32, 70, 97, 108, 115, 101, 44, 32, 39, 115, 104, 97, 112, 101, 39, 58, 32, 40, 49, 48, 44, 32, 49, 41, 44, 32, 125, 32, 32, 32, 32, 32, 32, 32, 32, 32, 32, 32, 32, 32, 32, 32, 32, 32, 32, 32, 32, 32, 32, 32, 32, 32, 32, 32, 32, 32, 32, 32, 32, 32, 32, 32, 32, 32, 32, 32, 32, 32, 32, 32, 32, 32, 32, 32, 32, 32, 32, 32, 32, 32, 32, 32, 32, 32, 10, 89, 123, 14, 191, 125, 14, 180, 63, 212, 253, 231, 63, 171, 183, 124, 62, 62, 96, 245, 62, 65, 220, 172, 63, 118, 238, 10, 64, 198, 79, 157, 63, 174, 71, 188, 190, 44, 13, 161, 191], None, None, None, None))))\n",
      "orig obj: b''\n",
      "simplification\n",
      "simple objects:  b''\n",
      "DETAIL OBJ b''\n",
      "orig obj: (9, 43022966097)\n",
      "simplification\n",
      "simple objects:  (6, (9, 43022966097))\n",
      "orig obj: b''\n",
      "simplification\n",
      "simple objects:  b''\n",
      "DETAIL OBJ b''\n",
      "orig obj: (1, (('__matmul__', [PointerTensor | me:72304647922 -> bob:99180929184], ([PointerTensor | me:91234911465 -> bob:78868433076],), {}), [85903727684]))\n",
      "simplification\n",
      "simple objects:  (6, (1, (6, ((6, ((5, (b'__matmul__',)), (18, (72304647922, 99180929184, 'bob', None, torch.Size([5, 10]), True)), (6, ((18, (91234911465, 78868433076, 'bob', None, torch.Size([10, 1]), True)),)), (0, []))), (1, [85903727684])))))\n",
      "orig obj: b''\n",
      "simplification\n",
      "simple objects:  b''\n",
      "DETAIL OBJ b''\n",
      "orig obj: (3, 85903727684)\n",
      "simplification\n",
      "simple objects:  (6, (3, 85903727684))\n",
      "DETAIL OBJ [12, [85903727684, b\"\\x93NUMPY\\x01\\x00F\\x00{'descr': '<f4', 'fortran_order': False, 'shape': (5,1,), }           f\\xc61\\xbd\\xdc\\xd2\\x00@\\x99\\xb7\\xa2@\\x00\\xb9\\x1c\\xc0\\x842\\x1f?\", None, None, None, None]]\n",
      "DETAILING  [85903727684, b\"\\x93NUMPY\\x01\\x00F\\x00{'descr': '<f4', 'fortran_order': False, 'shape': (5,1,), }           f\\xc61\\xbd\\xdc\\xd2\\x00@\\x99\\xb7\\xa2@\\x00\\xb9\\x1c\\xc0\\x842\\x1f?\", None, None, None, None] USING <function _detail_torch_tensor at 0x0000018869CD7C80>\n",
      "DES NUMPY b\"\\x93NUMPY\\x01\\x00F\\x00{'descr': '<f4', 'fortran_order': False, 'shape': (5,1,), }           f\\xc61\\xbd\\xdc\\xd2\\x00@\\x99\\xb7\\xa2@\\x00\\xb9\\x1c\\xc0\\x842\\x1f?\"\n",
      "tensor([[-0.0434],\n",
      "        [ 2.0129],\n",
      "        [ 5.0849],\n",
      "        [-2.4488],\n",
      "        [ 0.6219]])\n"
     ]
    },
    {
     "data": {
      "text/plain": [
       "tensor([[-0.0434],\n",
       "        [ 2.0129],\n",
       "        [ 5.0849],\n",
       "        [-2.4488],\n",
       "        [ 0.6219]])"
      ]
     },
     "execution_count": 42,
     "metadata": {},
     "output_type": "execute_result"
    }
   ],
   "source": [
    "x = torch.randn(5, 10)\n",
    "x_ptr = x.send(bob)\n",
    "y = torch.randn(10, 1)\n",
    "y_ptr = y.send(bob)\n",
    "\n",
    "z_ptr = x_ptr @ y_ptr\n",
    "z = z_ptr.get()\n",
    "z"
   ]
  },
  {
   "cell_type": "code",
   "execution_count": null,
   "metadata": {},
   "outputs": [],
   "source": [
    "x_ptr"
   ]
  },
  {
   "cell_type": "code",
   "execution_count": null,
   "metadata": {},
   "outputs": [],
   "source": [
    "y = torch.tensor([10,20,30,40,50.])\n",
    "y_ptr = y.send(bob)"
   ]
  },
  {
   "cell_type": "code",
   "execution_count": null,
   "metadata": {},
   "outputs": [],
   "source": [
    "y_ptr"
   ]
  },
  {
   "cell_type": "code",
   "execution_count": null,
   "metadata": {},
   "outputs": [],
   "source": [
    "z_ptr = x_ptr + 2"
   ]
  },
  {
   "cell_type": "code",
   "execution_count": null,
   "metadata": {},
   "outputs": [],
   "source": [
    "z_ptr"
   ]
  },
  {
   "cell_type": "code",
   "execution_count": null,
   "metadata": {},
   "outputs": [],
   "source": [
    "z = z_ptr.get()"
   ]
  },
  {
   "cell_type": "code",
   "execution_count": null,
   "metadata": {},
   "outputs": [],
   "source": [
    "import msgpack\n",
    "\n"
   ]
  },
  {
   "cell_type": "code",
   "execution_count": null,
   "metadata": {},
   "outputs": [],
   "source": [
    "a = msgpack.dumps((1,2,(3,4)))"
   ]
  },
  {
   "cell_type": "code",
   "execution_count": null,
   "metadata": {},
   "outputs": [],
   "source": [
    "a"
   ]
  },
  {
   "cell_type": "code",
   "execution_count": null,
   "metadata": {},
   "outputs": [],
   "source": [
    "msgpack.loads(a)"
   ]
  },
  {
   "cell_type": "code",
   "execution_count": null,
   "metadata": {},
   "outputs": [],
   "source": []
  }
 ],
 "metadata": {
  "kernelspec": {
   "display_name": "Python 3",
   "language": "python",
   "name": "python3"
  },
  "language_info": {
   "codemirror_mode": {
    "name": "ipython",
    "version": 3
   },
   "file_extension": ".py",
   "mimetype": "text/x-python",
   "name": "python",
   "nbconvert_exporter": "python",
   "pygments_lexer": "ipython3",
   "version": "3.7.3"
  }
 },
 "nbformat": 4,
 "nbformat_minor": 2
}
